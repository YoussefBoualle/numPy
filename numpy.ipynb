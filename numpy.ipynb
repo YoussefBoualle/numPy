{
 "cells": [
  {
   "cell_type": "code",
   "execution_count": null,
   "id": "41193170",
   "metadata": {},
   "outputs": [],
   "source": [
    "import numpy as np\n",
    "np.array([[1,2,3],[4,5,6]]).tolist()\n",
    "print(array.reshape)"
   ]
  },
  {
   "cell_type": "code",
   "execution_count": 86,
   "id": "90505c6c",
   "metadata": {},
   "outputs": [
    {
     "name": "stdout",
     "output_type": "stream",
     "text": [
      "\n",
      "[[0 1 2]\n",
      " [3 4 5]]\n",
      "4\n"
     ]
    }
   ],
   "source": [
    "print()\n",
    "import numpy as np\n",
    "\n",
    "m = np.arange(6).reshape(2,3)\n",
    "print (m)\n",
    "youssef =  np.trace(m)\n",
    "\n",
    "print(youssef)"
   ]
  },
  {
   "cell_type": "code",
   "execution_count": 5,
   "id": "3b7148d0",
   "metadata": {},
   "outputs": [
    {
     "data": {
      "text/plain": [
       "array([5, 6, 7])"
      ]
     },
     "execution_count": 5,
     "metadata": {},
     "output_type": "execute_result"
    }
   ],
   "source": [
    "import numpy as np\n",
    "a = np.array([0, 1, 2])\n",
    "b = np.array([5, 5, 5])\n",
    "a + b"
   ]
  },
  {
   "cell_type": "code",
   "execution_count": 8,
   "id": "dbc9ad93",
   "metadata": {},
   "outputs": [
    {
     "name": "stdout",
     "output_type": "stream",
     "text": [
      "5.0\n"
     ]
    }
   ],
   "source": [
    "import numpy as np\n",
    "a = np.array([[4,5,6]])\n",
    "b = x.mean()\n",
    "print(b)"
   ]
  },
  {
   "cell_type": "code",
   "execution_count": null,
   "id": "6d951700",
   "metadata": {},
   "outputs": [],
   "source": []
  }
 ],
 "metadata": {
  "kernelspec": {
   "display_name": "Python 3 (ipykernel)",
   "language": "python",
   "name": "python3"
  },
  "language_info": {
   "codemirror_mode": {
    "name": "ipython",
    "version": 3
   },
   "file_extension": ".py",
   "mimetype": "text/x-python",
   "name": "python",
   "nbconvert_exporter": "python",
   "pygments_lexer": "ipython3",
   "version": "3.9.12"
  }
 },
 "nbformat": 4,
 "nbformat_minor": 5
}
